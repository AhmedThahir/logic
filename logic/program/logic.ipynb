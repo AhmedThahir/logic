{
 "cells": [
  {
   "cell_type": "code",
   "execution_count": 1,
   "id": "e05e61e4",
   "metadata": {},
   "outputs": [],
   "source": [
    "import random"
   ]
  },
  {
   "cell_type": "code",
   "execution_count": 2,
   "id": "03861555",
   "metadata": {},
   "outputs": [],
   "source": [
    "a = [\n",
    "    [7,8,0, 4,0,0, 1,2,0],\n",
    "    [6,0,0, 0,7,5, 0,0,9],\n",
    "    [0,0,0, 6,0,1, 0,7,8],\n",
    "    \n",
    "    [0,0,7, 0,4,0, 2,6,0],\n",
    "    [0,0,1, 0,5,0, 9,3,0],\n",
    "    [9,0,4, 0,6,0, 0,0,5],\n",
    "    \n",
    "    [0,7,0, 3,0,0, 0,1,2],\n",
    "    [1,2,0, 0,0,7, 4,0,0],\n",
    "    [0,4,9, 2,0,6, 0,0,7]\n",
    "]\n",
    "\n",
    "b = [\n",
    "    [4,0,6, 5,0,2, 8,0,9],\n",
    "    [0,0,0, 0,4,0, 0,3,0],\n",
    "    [0,0,0, 0,0,0, 0,0,5],\n",
    "    \n",
    "    [6,0,0, 8,0,0, 1,0,0],\n",
    "    [5,0,0, 0,7,0, 0,8,0],\n",
    "    [3,0,2, 9,0,4, 0,6,0],\n",
    "    \n",
    "    [0,2,0, 6,0,0, 0,0,1],\n",
    "    [0,0,0, 0,5,3, 9,4,0],\n",
    "    [8,3,0, 0,9,0, 0,0,2]\n",
    "]\n",
    "\n",
    "\n",
    "# hard\n",
    "c = [\n",
    "    [0,0,0, 8,0,0, 0,0,0],\n",
    "    [7,8,9, 0,1,0, 0,0,6],\n",
    "    [0,0,0, 0,0,6, 1,0,0],\n",
    "    \n",
    "    [0,0,7, 0,0,0, 0,5,0],\n",
    "    [5,0,8, 7,0,9, 3,0,4],\n",
    "    [0,4,0, 0,0,0, 2,0,0],\n",
    "    \n",
    "    [0,0,3, 2,0,0, 0,0,0],\n",
    "    [8,0,0, 0,7,0, 4,3,9],\n",
    "    [0,0,0, 0,0,1, 0,0,0]\n",
    "]\n",
    "\n",
    "puzzles = [\n",
    "    a,\n",
    "    b,\n",
    "    c\n",
    "]"
   ]
  },
  {
   "cell_type": "code",
   "execution_count": 3,
   "id": "f37f20d6",
   "metadata": {},
   "outputs": [],
   "source": [
    "def display(board):\n",
    "    for i in range(9):\n",
    "        for j in range(9):\n",
    "            if(board[i][j] == 0):\n",
    "                print(\"X\", end =\" \")\n",
    "            else:\n",
    "                print(board[i][j], end =\" \")\n",
    "\n",
    "            if( j+1 == 3 or j+1 == 6 or j+1 == 9 ):\n",
    "                print(\"\", end = \" \")\n",
    "\n",
    "        if( i+1 == 3 or i+1 == 6 or i+1 == 9 ):\n",
    "                print()\n",
    "        print()"
   ]
  },
  {
   "cell_type": "code",
   "execution_count": 4,
   "id": "3e07c8b1",
   "metadata": {},
   "outputs": [],
   "source": [
    "def possible(x, y, num):\n",
    "    global board\n",
    "    for i in range(0,9):\n",
    "        if board[i][y] == num:\n",
    "            return False\n",
    "    for j in range(9):\n",
    "        if board[x][j] == num:\n",
    "            return False\n",
    "    x0 = (x//3)*3\n",
    "    y0 = (y//3)*3\n",
    "    \n",
    "    for i in range(3):\n",
    "        for j in range(3):\n",
    "            if board[x0 + i][y0 + j] == num:\n",
    "                return False\n",
    "    return True"
   ]
  },
  {
   "cell_type": "code",
   "execution_count": 5,
   "id": "423f1f22",
   "metadata": {},
   "outputs": [],
   "source": [
    "def solve():\n",
    "    global board\n",
    "    for y in range(9):\n",
    "        for x in range(9):\n",
    "            if board[y][x] == 0:\n",
    "                for num in range(1,10):\n",
    "                    if possible(y,x,num):\n",
    "                        board[y][x]=num\n",
    "                        solve()\n",
    "                        board[y][x] = 0\n",
    "                return\n",
    "    display(board)"
   ]
  },
  {
   "cell_type": "code",
   "execution_count": 6,
   "id": "3c2ca5ac",
   "metadata": {},
   "outputs": [
    {
     "name": "stdout",
     "output_type": "stream",
     "text": [
      "\n",
      "    Enter \n",
      "    - 1 for custom puzzle, or\n",
      "    - 0 for a random puzzle\n",
      "    0\n"
     ]
    }
   ],
   "source": [
    "o = int(input(\"\"\"\n",
    "    Enter \n",
    "    - 1 for custom puzzle, or\n",
    "    - 0 for a random puzzle\n",
    "    \"\"\"))\n",
    "\n",
    "if(o == 0):\n",
    "    board = random.choice(puzzles)\n",
    "else:\n",
    "    print(\"\"\"\n",
    "    Enter\n",
    "    - 1-9     for filled places\n",
    "    - 0       for empty places\n",
    "    - <space> to separate places\n",
    "    \"\"\")\n",
    "    \n",
    "    board = list()\n",
    "    print()\n",
    "    for i in range( 9 ):\n",
    "        row = input(\"Row \" + str(i+1) + \"\\t\")\n",
    "        board.append(list(\n",
    "            map(int, row.split())\n",
    "        ))\n",
    "        print()"
   ]
  },
  {
   "cell_type": "code",
   "execution_count": 7,
   "id": "cdf1f89d",
   "metadata": {
    "scrolled": false
   },
   "outputs": [
    {
     "name": "stdout",
     "output_type": "stream",
     "text": [
      "\u001b[1mBefore Solving\u001b[0m\n",
      "7 8 X  4 X X  1 2 X  \n",
      "6 X X  X 7 5  X X 9  \n",
      "X X X  6 X 1  X 7 8  \n",
      "\n",
      "X X 7  X 4 X  2 6 X  \n",
      "X X 1  X 5 X  9 3 X  \n",
      "9 X 4  X 6 X  X X 5  \n",
      "\n",
      "X 7 X  3 X X  X 1 2  \n",
      "1 2 X  X X 7  4 X X  \n",
      "X 4 9  2 X 6  X X 7  \n",
      "\n",
      "\n",
      "\u001b[1mAfter Solving\u001b[0m\n",
      "7 8 5  4 3 9  1 2 6  \n",
      "6 1 2  8 7 5  3 4 9  \n",
      "4 9 3  6 2 1  5 7 8  \n",
      "\n",
      "8 5 7  9 4 3  2 6 1  \n",
      "2 6 1  7 5 8  9 3 4  \n",
      "9 3 4  1 6 2  7 8 5  \n",
      "\n",
      "5 7 8  3 9 4  6 1 2  \n",
      "1 2 6  5 8 7  4 9 3  \n",
      "3 4 9  2 1 6  8 5 7  \n",
      "\n"
     ]
    }
   ],
   "source": [
    "print(\"\\033[1m\" + \"Before Solving\" + \"\\033[0m\")\n",
    "display(board)\n",
    "\n",
    "print()\n",
    "\n",
    "print(\"\\033[1m\" + \"After Solving\" + \"\\033[0m\")\n",
    "solve()"
   ]
  }
 ],
 "metadata": {
  "kernelspec": {
   "display_name": "Python 3",
   "language": "python",
   "name": "python3"
  },
  "language_info": {
   "codemirror_mode": {
    "name": "ipython",
    "version": 3
   },
   "file_extension": ".py",
   "mimetype": "text/x-python",
   "name": "python",
   "nbconvert_exporter": "python",
   "pygments_lexer": "ipython3",
   "version": "3.8.8"
  }
 },
 "nbformat": 4,
 "nbformat_minor": 5
}
